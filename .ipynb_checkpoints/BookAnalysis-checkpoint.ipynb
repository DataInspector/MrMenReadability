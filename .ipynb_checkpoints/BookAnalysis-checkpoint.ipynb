{
 "cells": [
  {
   "cell_type": "code",
   "execution_count": 1,
   "metadata": {
    "ExecuteTime": {
     "end_time": "2019-03-13T18:21:42.477743Z",
     "start_time": "2019-03-13T18:21:41.894279Z"
    }
   },
   "outputs": [],
   "source": [
    "import pandas as pd,numpy as np,requests,re\n",
    "from bs4 import BeautifulSoup\n",
    "import textstat"
   ]
  },
  {
   "cell_type": "code",
   "execution_count": 2,
   "metadata": {
    "ExecuteTime": {
     "end_time": "2019-03-13T18:21:42.501333Z",
     "start_time": "2019-03-13T18:21:42.480310Z"
    }
   },
   "outputs": [],
   "source": [
    "#of mice and men and mr tickle in pandas DF - to be replaced by mr greedy\n",
    "\n",
    "ofmiceandmen = pd.read_csv(\"ofmiceandmen.txt\",delimiter=\"\\t\",header=None,names = [\"Text\"])\n",
    "mrtickle = pd.read_csv(\"mrtickle.txt\",delimiter=\"\\t\",header=None,names = [\"Text\"])\n",
    "\n",
    "books = pd.DataFrame({\n",
    "                    \"Title\": [ofmiceandmen.Text[0],mrtickle.Text[0]],\n",
    "                    \"Text\": [ofmiceandmen.Text[1:].str.cat(),mrtickle.Text[1:].str.cat()]\n",
    "                    })\n"
   ]
  },
  {
   "cell_type": "code",
   "execution_count": 3,
   "metadata": {
    "ExecuteTime": {
     "end_time": "2019-03-13T18:21:42.507957Z",
     "start_time": "2019-03-13T18:21:42.503333Z"
    }
   },
   "outputs": [
    {
     "name": "stdout",
     "output_type": "stream",
     "text": [
      "https://www.gutenberg.org/files/1349/1349-0.txt\n"
     ]
    }
   ],
   "source": [
    "#Creates list of book url links to retrieve text in next loop\n",
    "\n",
    "UrlList = []\n",
    "BookIndex = 1300\n",
    "BookSearchRange = 50\n",
    "\n",
    "for i in range(BookSearchRange):\n",
    "    \n",
    "    UrlList.append(\"https://www.gutenberg.org/files/\" + str(int(BookIndex+len(UrlList))) + \"/\" +\n",
    "                   str(int(BookIndex + len(UrlList))) + \"-0.txt\")   \n",
    "\n",
    "print(UrlList[-1])"
   ]
  },
  {
   "cell_type": "code",
   "execution_count": 6,
   "metadata": {
    "ExecuteTime": {
     "end_time": "2019-03-13T18:37:36.113747Z",
     "start_time": "2019-03-13T18:37:03.111323Z"
    }
   },
   "outputs": [],
   "source": [
    "#loop to retrieve book text and append to main Data Frame\n",
    "\n",
    "BookTitleFinder = re.compile('(?<=Title: ).{,}')\n",
    "\n",
    "for i in UrlList:\n",
    "    \n",
    "    r=requests.get(i)\n",
    "    soup = BeautifulSoup(r.text,\"html.parser\")\n",
    "    if len(soup.text) > 100:\n",
    "        temp = pd.DataFrame({\n",
    "                             \"Title\":[BookTitleFinder.findall(soup.text)]\n",
    "                            ,\"Text\":[soup]\n",
    "                            })\n",
    "        \n",
    "        books = books.append(temp).reset_index(drop=True)"
   ]
  },
  {
   "cell_type": "code",
   "execution_count": 17,
   "metadata": {
    "ExecuteTime": {
     "end_time": "2019-03-13T18:46:34.668596Z",
     "start_time": "2019-03-13T18:46:34.659809Z"
    }
   },
   "outputs": [],
   "source": [
    "books['FleschEase'] = 0\n",
    "books['SMOG'] = 0\n",
    "books['FleschGrade'] = 0\n",
    "books['ColemanLiau'] = 0\n",
    "books['AutomatedReadability'] = 0\n",
    "books['DaleChall'] = 0\n",
    "books['DifficultWords'] = 0\n",
    "books['LinsearWrite'] = 0\n",
    "books['GunningFOG'] = 0\n",
    "books['TextStandard'] = 0"
   ]
  },
  {
   "cell_type": "code",
   "execution_count": 24,
   "metadata": {
    "ExecuteTime": {
     "end_time": "2019-03-13T18:52:56.251234Z",
     "start_time": "2019-03-13T18:52:28.563780Z"
    },
    "collapsed": true
   },
   "outputs": [
    {
     "name": "stdout",
     "output_type": "stream",
     "text": [
      "0 out of 56\n",
      "1 out of 56\n",
      "2 out of 56\n",
      "3 out of 56\n",
      "4 out of 56\n",
      "5 out of 56\n",
      "6 out of 56\n",
      "7 out of 56\n",
      "8 out of 56\n",
      "9 out of 56\n",
      "10 out of 56\n",
      "11 out of 56\n",
      "12 out of 56\n",
      "13 out of 56\n",
      "14 out of 56\n",
      "15 out of 56\n",
      "16 out of 56\n",
      "17 out of 56\n",
      "18 out of 56\n",
      "19 out of 56\n",
      "20 out of 56\n",
      "21 out of 56\n",
      "22 out of 56\n",
      "23 out of 56\n",
      "24 out of 56\n",
      "25 out of 56\n",
      "26 out of 56\n",
      "27 out of 56\n",
      "28 out of 56\n",
      "29 out of 56\n",
      "30 out of 56\n",
      "31 out of 56\n",
      "32 out of 56\n",
      "33 out of 56\n",
      "34 out of 56\n",
      "35 out of 56\n",
      "36 out of 56\n",
      "37 out of 56\n",
      "38 out of 56\n",
      "39 out of 56\n",
      "40 out of 56\n",
      "41 out of 56\n",
      "42 out of 56\n",
      "43 out of 56\n",
      "44 out of 56\n",
      "45 out of 56\n",
      "46 out of 56\n",
      "47 out of 56\n",
      "48 out of 56\n",
      "49 out of 56\n",
      "50 out of 56\n",
      "51 out of 56\n",
      "52 out of 56\n",
      "53 out of 56\n",
      "54 out of 56\n",
      "55 out of 56\n"
     ]
    }
   ],
   "source": [
    "for i, j in enumerate(books.Text):\n",
    "    books.loc[i,\"FleschEase\"] = textstat.flesch_reading_ease(str(books.Text[i]))\n",
    "    books.loc[i,\"SMOG\"] = textstat.smog_index(str(books.Text[i]))\n",
    "    books.loc[i,\"FleschGrade\"] = textstat.flesch_kincaid_grade(str(books.Text[i]))\n",
    "    books.loc[i,\"ColemanLiau\"] = textstat.coleman_liau_index(str(books.Text[i]))\n",
    "    books.loc[i,\"AutomatedReadability\"] = textstat.automated_readability_index(str(books.Text[i]))\n",
    "    books.loc[i,\"DaleChall\"] = textstat.dale_chall_readability_score(str(books.Text[i]))\n",
    "    books.loc[i,\"DifficultWords\"] = textstat.difficult_words(str(books.Text[i]))\n",
    "    books.loc[i,\"LinsearWrite\"] = textstat.linsear_write_formula(str(books.Text[i]))\n",
    "    books.loc[i,\"GunningFOG\"] = textstat.gunning_fog(str(books.Text[i]))\n",
    "    books.loc[i,\"TextStandard\"] = textstat.text_standard(str(books.Text[i]))\n",
    "    print((i+1),\"out of\",len(books.Text))"
   ]
  },
  {
   "cell_type": "code",
   "execution_count": 25,
   "metadata": {
    "ExecuteTime": {
     "end_time": "2019-03-13T18:53:51.946989Z",
     "start_time": "2019-03-13T18:53:51.871553Z"
    }
   },
   "outputs": [
    {
     "data": {
      "text/html": [
       "<div>\n",
       "<style scoped>\n",
       "    .dataframe tbody tr th:only-of-type {\n",
       "        vertical-align: middle;\n",
       "    }\n",
       "\n",
       "    .dataframe tbody tr th {\n",
       "        vertical-align: top;\n",
       "    }\n",
       "\n",
       "    .dataframe thead th {\n",
       "        text-align: right;\n",
       "    }\n",
       "</style>\n",
       "<table border=\"1\" class=\"dataframe\">\n",
       "  <thead>\n",
       "    <tr style=\"text-align: right;\">\n",
       "      <th></th>\n",
       "      <th>Title</th>\n",
       "      <th>Text</th>\n",
       "      <th>FleschEase</th>\n",
       "      <th>SMOG</th>\n",
       "      <th>FleschGrade</th>\n",
       "      <th>ColemanLiau</th>\n",
       "      <th>AutomatedReadability</th>\n",
       "      <th>DaleChall</th>\n",
       "      <th>DifficultWords</th>\n",
       "      <th>LinsearWrite</th>\n",
       "      <th>GunningFOG</th>\n",
       "      <th>TextStandard</th>\n",
       "    </tr>\n",
       "  </thead>\n",
       "  <tbody>\n",
       "    <tr>\n",
       "      <th>0</th>\n",
       "      <td>OF MICE AND MEN</td>\n",
       "      <td>A FEW MILES south of Soledad, the Salinas Rive...</td>\n",
       "      <td>87.25</td>\n",
       "      <td>6.7</td>\n",
       "      <td>5.5</td>\n",
       "      <td>5.80</td>\n",
       "      <td>7.4</td>\n",
       "      <td>1.39</td>\n",
       "      <td>999</td>\n",
       "      <td>17.333333</td>\n",
       "      <td>8.41</td>\n",
       "      <td>5th and 6th grade</td>\n",
       "    </tr>\n",
       "    <tr>\n",
       "      <th>1</th>\n",
       "      <td>Mr. Tickle</td>\n",
       "      <td>It was a warm, sunny morning.In his small hous...</td>\n",
       "      <td>7.80</td>\n",
       "      <td>14.9</td>\n",
       "      <td>31.9</td>\n",
       "      <td>12.21</td>\n",
       "      <td>42.0</td>\n",
       "      <td>9.02</td>\n",
       "      <td>58</td>\n",
       "      <td>17.666667</td>\n",
       "      <td>35.41</td>\n",
       "      <td>31st and 32nd grade</td>\n",
       "    </tr>\n",
       "    <tr>\n",
       "      <th>2</th>\n",
       "      <td>[Riders of the Purple Sage\\r]</td>\n",
       "      <td>﻿The Project Gutenberg EBook of Riders of the ...</td>\n",
       "      <td>84.00</td>\n",
       "      <td>9.1</td>\n",
       "      <td>6.8</td>\n",
       "      <td>9.28</td>\n",
       "      <td>11.7</td>\n",
       "      <td>1.69</td>\n",
       "      <td>4353</td>\n",
       "      <td>29.000000</td>\n",
       "      <td>10.03</td>\n",
       "      <td>9th and 10th grade</td>\n",
       "    </tr>\n",
       "    <tr>\n",
       "      <th>3</th>\n",
       "      <td>[The Scapegoat\\r]</td>\n",
       "      <td>﻿The Project Gutenberg EBook of The Scapegoat,...</td>\n",
       "      <td>70.50</td>\n",
       "      <td>10.0</td>\n",
       "      <td>11.9</td>\n",
       "      <td>8.95</td>\n",
       "      <td>17.3</td>\n",
       "      <td>2.31</td>\n",
       "      <td>3978</td>\n",
       "      <td>29.000000</td>\n",
       "      <td>15.25</td>\n",
       "      <td>11th and 12th grade</td>\n",
       "    </tr>\n",
       "    <tr>\n",
       "      <th>4</th>\n",
       "      <td>[The Ball at Sceaux\\r]</td>\n",
       "      <td>﻿The Project Gutenberg EBook of The Ball at Sc...</td>\n",
       "      <td>40.69</td>\n",
       "      <td>15.6</td>\n",
       "      <td>19.3</td>\n",
       "      <td>11.68</td>\n",
       "      <td>25.6</td>\n",
       "      <td>7.55</td>\n",
       "      <td>2491</td>\n",
       "      <td>30.000000</td>\n",
       "      <td>22.80</td>\n",
       "      <td>15th and 16th grade</td>\n",
       "    </tr>\n",
       "  </tbody>\n",
       "</table>\n",
       "</div>"
      ],
      "text/plain": [
       "                           Title  \\\n",
       "0               OF MICE AND MEN    \n",
       "1                     Mr. Tickle   \n",
       "2  [Riders of the Purple Sage\\r]   \n",
       "3              [The Scapegoat\\r]   \n",
       "4         [The Ball at Sceaux\\r]   \n",
       "\n",
       "                                                Text  FleschEase  SMOG  \\\n",
       "0  A FEW MILES south of Soledad, the Salinas Rive...       87.25   6.7   \n",
       "1  It was a warm, sunny morning.In his small hous...        7.80  14.9   \n",
       "2  ﻿The Project Gutenberg EBook of Riders of the ...       84.00   9.1   \n",
       "3  ﻿The Project Gutenberg EBook of The Scapegoat,...       70.50  10.0   \n",
       "4  ﻿The Project Gutenberg EBook of The Ball at Sc...       40.69  15.6   \n",
       "\n",
       "   FleschGrade  ColemanLiau  AutomatedReadability  DaleChall  DifficultWords  \\\n",
       "0          5.5         5.80                   7.4       1.39             999   \n",
       "1         31.9        12.21                  42.0       9.02              58   \n",
       "2          6.8         9.28                  11.7       1.69            4353   \n",
       "3         11.9         8.95                  17.3       2.31            3978   \n",
       "4         19.3        11.68                  25.6       7.55            2491   \n",
       "\n",
       "   LinsearWrite  GunningFOG         TextStandard  \n",
       "0     17.333333        8.41    5th and 6th grade  \n",
       "1     17.666667       35.41  31st and 32nd grade  \n",
       "2     29.000000       10.03   9th and 10th grade  \n",
       "3     29.000000       15.25  11th and 12th grade  \n",
       "4     30.000000       22.80  15th and 16th grade  "
      ]
     },
     "execution_count": 25,
     "metadata": {},
     "output_type": "execute_result"
    }
   ],
   "source": [
    "books.head()"
   ]
  }
 ],
 "metadata": {
  "kernelspec": {
   "display_name": "p36workshop",
   "language": "python",
   "name": "p36workshop"
  },
  "language_info": {
   "codemirror_mode": {
    "name": "ipython",
    "version": 3
   },
   "file_extension": ".py",
   "mimetype": "text/x-python",
   "name": "python",
   "nbconvert_exporter": "python",
   "pygments_lexer": "ipython3",
   "version": "3.6.7"
  }
 },
 "nbformat": 4,
 "nbformat_minor": 2
}
