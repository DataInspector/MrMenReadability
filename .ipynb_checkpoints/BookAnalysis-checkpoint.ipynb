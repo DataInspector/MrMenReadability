{
 "cells": [
  {
   "cell_type": "code",
   "execution_count": 1,
   "metadata": {
    "ExecuteTime": {
     "end_time": "2019-03-13T22:27:22.770751Z",
     "start_time": "2019-03-13T22:27:22.182793Z"
    }
   },
   "outputs": [],
   "source": [
    "import pandas as pd,numpy as np,requests,re\n",
    "from bs4 import BeautifulSoup\n",
    "import textstat"
   ]
  },
  {
   "cell_type": "code",
   "execution_count": 2,
   "metadata": {
    "ExecuteTime": {
     "end_time": "2019-03-13T22:27:22.793145Z",
     "start_time": "2019-03-13T22:27:22.773288Z"
    }
   },
   "outputs": [],
   "source": [
    "#of mice and men and mr tickle in pandas DF - to be replaced by mr greedy\n",
    "\n",
    "ofmiceandmen = pd.read_csv(\"ofmiceandmen.txt\",delimiter=\"\\t\",header=None,names = [\"Text\"])\n",
    "mrtickle = pd.read_csv(\"mrtickle.txt\",delimiter=\"\\t\",header=None,names = [\"Text\"])"
   ]
  },
  {
   "cell_type": "code",
   "execution_count": 3,
   "metadata": {
    "ExecuteTime": {
     "end_time": "2019-03-13T22:27:22.800814Z",
     "start_time": "2019-03-13T22:27:22.795068Z"
    }
   },
   "outputs": [],
   "source": [
    "#Merge mr men and of mice and men\n",
    "\n",
    "books = pd.DataFrame({\n",
    "                    \"Title\": [ofmiceandmen.Text[0],mrtickle.Text[0]],\n",
    "                    \"Text\": [ofmiceandmen.Text[1:].str.cat(sep = \" \"),mrtickle.Text[1:].str.cat(sep = \" \")]\n",
    "                    })"
   ]
  },
  {
   "cell_type": "code",
   "execution_count": 4,
   "metadata": {
    "ExecuteTime": {
     "end_time": "2019-03-13T22:27:22.844447Z",
     "start_time": "2019-03-13T22:27:22.803430Z"
    }
   },
   "outputs": [],
   "source": [
    "#Clean the of mice and men book\n",
    "\n",
    "temp = re.sub(\"\\d*\\s+OF\\s+MICE\\s+AND\\s+MEN\",\"\",str(books.Text[0]))\n",
    "temp = re.sub(\"\\s{2}\",\" \",temp)\n",
    "temp = re.sub(\"\\d+|<+|>+\",\"\",temp)\n",
    "temp = re.sub(\"\\.{2,}\",\",\",temp)\n",
    "temp = re.sub(\"\\.\\s\\.\\s.\\s.\",\",\",temp)\n",
    "books.loc[0,\"Text\"] = re.sub(\"-+\\s{1}\",\"\",temp)"
   ]
  },
  {
   "cell_type": "code",
   "execution_count": 5,
   "metadata": {
    "ExecuteTime": {
     "end_time": "2019-03-13T22:27:22.851829Z",
     "start_time": "2019-03-13T22:27:22.847039Z"
    }
   },
   "outputs": [
    {
     "name": "stdout",
     "output_type": "stream",
     "text": [
      "https://www.gutenberg.org/files/1349/1349-0.txt\n"
     ]
    }
   ],
   "source": [
    "#Creates list of book url links to retrieve text in next loop\n",
    "\n",
    "UrlList = []\n",
    "BookIndex = 1300\n",
    "BookSearchRange = 50\n",
    "\n",
    "for i in range(BookSearchRange):\n",
    "    \n",
    "    UrlList.append(\"https://www.gutenberg.org/files/\" + str(int(BookIndex+len(UrlList))) + \"/\" +\n",
    "                   str(int(BookIndex + len(UrlList))) + \"-0.txt\")   \n",
    "\n",
    "print(UrlList[-1])"
   ]
  },
  {
   "cell_type": "code",
   "execution_count": 6,
   "metadata": {
    "ExecuteTime": {
     "end_time": "2019-03-13T22:27:55.804775Z",
     "start_time": "2019-03-13T22:27:22.853880Z"
    }
   },
   "outputs": [],
   "source": [
    "#loop to retrieve book text and append to main Data Frame\n",
    "\n",
    "BookTitleFinder = re.compile('(?<=Title: ).{,}')\n",
    "\n",
    "for i in UrlList:\n",
    "    \n",
    "    r=requests.get(i)\n",
    "    soup = BeautifulSoup(r.text,\"html.parser\")\n",
    "    if len(soup.text) > 100:\n",
    "        temp = pd.DataFrame({\n",
    "                             \"Title\":[BookTitleFinder.findall(soup.text)]\n",
    "                            ,\"Text\":[soup]\n",
    "                            })\n",
    "        \n",
    "        books = books.append(temp).reset_index(drop=True)"
   ]
  },
  {
   "cell_type": "code",
   "execution_count": 7,
   "metadata": {
    "ExecuteTime": {
     "end_time": "2019-03-13T22:27:55.820605Z",
     "start_time": "2019-03-13T22:27:55.806686Z"
    },
    "scrolled": true
   },
   "outputs": [],
   "source": [
    "#Clean The Titles\n",
    "\n",
    "for i, j in enumerate(books.Title):\n",
    "    books.loc[i,\"Title\"] = re.sub(\"\\[|'|]|r]|\\\\\\\\\", \"\", str(j))"
   ]
  },
  {
   "cell_type": "code",
   "execution_count": 8,
   "metadata": {
    "ExecuteTime": {
     "end_time": "2019-03-13T22:27:56.572719Z",
     "start_time": "2019-03-13T22:27:55.822299Z"
    }
   },
   "outputs": [],
   "source": [
    "#Create text sample column and drop text\n",
    "\n",
    "books[\"TextSample\"] = 0\n",
    "for i, j in enumerate(books.Text):\n",
    "    Start = int(len(str(books.Text[i]))/6*3)\n",
    "    End = int(len(str(books.Text[i]))/6*5)\n",
    "    books.loc[i,\"TextSample\"] = str(books.Text[i])[Start:End]\n",
    "    books.loc[i,\"TextSample\"] = re.sub(\"\\A\\S+\\s+\",\"\",str(books.TextSample[i]))\n",
    "\n",
    "books = books.drop(columns=\"Text\")"
   ]
  },
  {
   "cell_type": "code",
   "execution_count": 9,
   "metadata": {
    "ExecuteTime": {
     "end_time": "2019-03-13T22:27:57.165345Z",
     "start_time": "2019-03-13T22:27:56.574585Z"
    }
   },
   "outputs": [],
   "source": [
    "for i, j in enumerate(books.TextSample):\n",
    "    books.loc[i,\"TextSample\"] = re.sub(\"\\s{1,}\",\" \",str(j))\n",
    "    books.loc[i,\"TextSample\"] = re.sub(\"\\.\\s{1,}\\.\",\" \",str(j))\n",
    "    books.loc[i,\"TextSample\"] = re.sub(\"-{2,}\",\" \",str(j))\n",
    "    books.loc[i,\"TextSample\"] = re.sub(\"\\s\",\" \",str(j))"
   ]
  },
  {
   "cell_type": "code",
   "execution_count": 10,
   "metadata": {
    "ExecuteTime": {
     "end_time": "2019-03-13T22:27:57.175289Z",
     "start_time": "2019-03-13T22:27:57.167180Z"
    }
   },
   "outputs": [],
   "source": [
    "#Create dummy columns\n",
    "\n",
    "books['FleschEase'] = 0\n",
    "books['SMOG'] = 0\n",
    "books['FleschGrade'] = 0\n",
    "books['ColemanLiau'] = 0\n",
    "books['AutomatedReadability'] = 0\n",
    "books['DaleChall'] = 0\n",
    "books['DifficultWords'] = 0\n",
    "books['LinsearWrite'] = 0\n",
    "books['GunningFOG'] = 0\n",
    "books['TextStandard'] = 0"
   ]
  },
  {
   "cell_type": "code",
   "execution_count": 11,
   "metadata": {
    "ExecuteTime": {
     "end_time": "2019-03-13T22:28:10.122824Z",
     "start_time": "2019-03-13T22:27:57.176830Z"
    }
   },
   "outputs": [],
   "source": [
    "#Add readability metrics\n",
    "\n",
    "for i, j in enumerate(books.TextSample):\n",
    "    books.loc[i,\"FleschEase\"] = textstat.flesch_reading_ease(str(books.TextSample[i]))\n",
    "    books.loc[i,\"SMOG\"] = textstat.smog_index(str(books.TextSample[i]))\n",
    "    books.loc[i,\"FleschGrade\"] = textstat.flesch_kincaid_grade(str(books.TextSample[i]))\n",
    "    books.loc[i,\"ColemanLiau\"] = textstat.coleman_liau_index(str(books.TextSample[i]))\n",
    "    books.loc[i,\"AutomatedReadability\"] = textstat.automated_readability_index(str(books.TextSample[i]))\n",
    "    books.loc[i,\"DaleChall\"] = textstat.dale_chall_readability_score(str(books.TextSample[i]))\n",
    "    books.loc[i,\"DifficultWords\"] = textstat.difficult_words(str(books.TextSample[i]))\n",
    "    books.loc[i,\"LinsearWrite\"] = textstat.linsear_write_formula(str(books.TextSample[i]))\n",
    "    books.loc[i,\"GunningFOG\"] = textstat.gunning_fog(str(books.TextSample[i]))\n",
    "    books.loc[i,\"TextStandard\"] = textstat.text_standard(str(books.TextSample[i]))"
   ]
  },
  {
   "cell_type": "code",
   "execution_count": 12,
   "metadata": {
    "ExecuteTime": {
     "end_time": "2019-03-13T22:28:10.212697Z",
     "start_time": "2019-03-13T22:28:10.124621Z"
    }
   },
   "outputs": [],
   "source": [
    "books.to_csv(\"Output.csv\")"
   ]
  },
  {
   "cell_type": "code",
   "execution_count": 13,
   "metadata": {
    "ExecuteTime": {
     "end_time": "2019-03-13T22:28:10.240452Z",
     "start_time": "2019-03-13T22:28:10.214600Z"
    }
   },
   "outputs": [
    {
     "data": {
      "text/html": [
       "<div>\n",
       "<style scoped>\n",
       "    .dataframe tbody tr th:only-of-type {\n",
       "        vertical-align: middle;\n",
       "    }\n",
       "\n",
       "    .dataframe tbody tr th {\n",
       "        vertical-align: top;\n",
       "    }\n",
       "\n",
       "    .dataframe thead th {\n",
       "        text-align: right;\n",
       "    }\n",
       "</style>\n",
       "<table border=\"1\" class=\"dataframe\">\n",
       "  <thead>\n",
       "    <tr style=\"text-align: right;\">\n",
       "      <th></th>\n",
       "      <th>Title</th>\n",
       "      <th>TextSample</th>\n",
       "      <th>FleschEase</th>\n",
       "      <th>SMOG</th>\n",
       "      <th>FleschGrade</th>\n",
       "      <th>ColemanLiau</th>\n",
       "      <th>AutomatedReadability</th>\n",
       "      <th>DaleChall</th>\n",
       "      <th>DifficultWords</th>\n",
       "      <th>LinsearWrite</th>\n",
       "      <th>GunningFOG</th>\n",
       "      <th>TextStandard</th>\n",
       "    </tr>\n",
       "  </thead>\n",
       "  <tbody>\n",
       "    <tr>\n",
       "      <th>0</th>\n",
       "      <td>OF MICE AND MEN</td>\n",
       "      <td>Slim ain’t. Least I don’t think Slim is. But I...</td>\n",
       "      <td>87.35</td>\n",
       "      <td>7.0</td>\n",
       "      <td>5.5</td>\n",
       "      <td>6.09</td>\n",
       "      <td>7.5</td>\n",
       "      <td>1.58</td>\n",
       "      <td>442</td>\n",
       "      <td>6.285714</td>\n",
       "      <td>8.85</td>\n",
       "      <td>5th and 6th grade</td>\n",
       "    </tr>\n",
       "    <tr>\n",
       "      <th>1</th>\n",
       "      <td>Mr. Tickle</td>\n",
       "      <td>This time he kept on tickling until soon the t...</td>\n",
       "      <td>84.07</td>\n",
       "      <td>7.3</td>\n",
       "      <td>4.7</td>\n",
       "      <td>6.89</td>\n",
       "      <td>5.8</td>\n",
       "      <td>5.58</td>\n",
       "      <td>20</td>\n",
       "      <td>5.750000</td>\n",
       "      <td>8.39</td>\n",
       "      <td>5th and 6th grade</td>\n",
       "    </tr>\n",
       "    <tr>\n",
       "      <th>2</th>\n",
       "      <td>Riders of the Purple Sager</td>\n",
       "      <td>breath, “is you  can't ride away. Mebbe realiz...</td>\n",
       "      <td>69.11</td>\n",
       "      <td>8.5</td>\n",
       "      <td>8.3</td>\n",
       "      <td>7.72</td>\n",
       "      <td>9.5</td>\n",
       "      <td>5.49</td>\n",
       "      <td>2073</td>\n",
       "      <td>4.272727</td>\n",
       "      <td>9.92</td>\n",
       "      <td>7th and 8th grade</td>\n",
       "    </tr>\n",
       "    <tr>\n",
       "      <th>3</th>\n",
       "      <td>The Scapegoatr</td>\n",
       "      <td>“Naomi, Naomi,” whispered Fatimah in the girl'...</td>\n",
       "      <td>59.16</td>\n",
       "      <td>8.9</td>\n",
       "      <td>12.2</td>\n",
       "      <td>7.50</td>\n",
       "      <td>13.4</td>\n",
       "      <td>5.87</td>\n",
       "      <td>1777</td>\n",
       "      <td>11.000000</td>\n",
       "      <td>13.56</td>\n",
       "      <td>13th and 14th grade</td>\n",
       "    </tr>\n",
       "    <tr>\n",
       "      <th>4</th>\n",
       "      <td>The Ball at Sceauxr</td>\n",
       "      <td>power of her  coquettish arts. Long familiar ...</td>\n",
       "      <td>38.02</td>\n",
       "      <td>14.1</td>\n",
       "      <td>18.2</td>\n",
       "      <td>9.59</td>\n",
       "      <td>21.0</td>\n",
       "      <td>7.53</td>\n",
       "      <td>997</td>\n",
       "      <td>14.750000</td>\n",
       "      <td>21.19</td>\n",
       "      <td>14th and 15th grade</td>\n",
       "    </tr>\n",
       "  </tbody>\n",
       "</table>\n",
       "</div>"
      ],
      "text/plain": [
       "                        Title  \\\n",
       "0            OF MICE AND MEN    \n",
       "1                  Mr. Tickle   \n",
       "2  Riders of the Purple Sager   \n",
       "3              The Scapegoatr   \n",
       "4         The Ball at Sceauxr   \n",
       "\n",
       "                                          TextSample  FleschEase  SMOG  \\\n",
       "0  Slim ain’t. Least I don’t think Slim is. But I...       87.35   7.0   \n",
       "1  This time he kept on tickling until soon the t...       84.07   7.3   \n",
       "2  breath, “is you  can't ride away. Mebbe realiz...       69.11   8.5   \n",
       "3  “Naomi, Naomi,” whispered Fatimah in the girl'...       59.16   8.9   \n",
       "4   power of her  coquettish arts. Long familiar ...       38.02  14.1   \n",
       "\n",
       "   FleschGrade  ColemanLiau  AutomatedReadability  DaleChall  DifficultWords  \\\n",
       "0          5.5         6.09                   7.5       1.58             442   \n",
       "1          4.7         6.89                   5.8       5.58              20   \n",
       "2          8.3         7.72                   9.5       5.49            2073   \n",
       "3         12.2         7.50                  13.4       5.87            1777   \n",
       "4         18.2         9.59                  21.0       7.53             997   \n",
       "\n",
       "   LinsearWrite  GunningFOG         TextStandard  \n",
       "0      6.285714        8.85    5th and 6th grade  \n",
       "1      5.750000        8.39    5th and 6th grade  \n",
       "2      4.272727        9.92    7th and 8th grade  \n",
       "3     11.000000       13.56  13th and 14th grade  \n",
       "4     14.750000       21.19  14th and 15th grade  "
      ]
     },
     "execution_count": 13,
     "metadata": {},
     "output_type": "execute_result"
    }
   ],
   "source": [
    "books.head(5)"
   ]
  }
 ],
 "metadata": {
  "kernelspec": {
   "display_name": "p36workshop",
   "language": "python",
   "name": "p36workshop"
  },
  "language_info": {
   "codemirror_mode": {
    "name": "ipython",
    "version": 3
   },
   "file_extension": ".py",
   "mimetype": "text/x-python",
   "name": "python",
   "nbconvert_exporter": "python",
   "pygments_lexer": "ipython3",
   "version": "3.6.7"
  }
 },
 "nbformat": 4,
 "nbformat_minor": 2
}
