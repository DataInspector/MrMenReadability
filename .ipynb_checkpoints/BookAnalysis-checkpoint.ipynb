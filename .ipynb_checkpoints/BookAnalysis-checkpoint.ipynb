{
 "cells": [
  {
   "cell_type": "code",
   "execution_count": 1,
   "metadata": {
    "ExecuteTime": {
     "end_time": "2019-03-13T22:27:22.770751Z",
     "start_time": "2019-03-13T22:27:22.182793Z"
    },
    "collapsed": true,
    "scrolled": true
   },
   "outputs": [],
   "source": [
    "import pandas as pd,numpy as np,requests,re\n",
    "from bs4 import BeautifulSoup\n",
    "import textstat\n",
    "import math\n",
    "import statistics"
   ]
  },
  {
   "cell_type": "code",
   "execution_count": 2,
   "metadata": {
    "collapsed": true
   },
   "outputs": [],
   "source": [
    "ofmiceandmen2 = text_file = open(\"OfMiceAndMen2.txt\", \"r\")\n",
    "ofmiceandmen2 = ofmiceandmen2.read().split('. ')\n",
    "ofmiceandmen2 = pd.DataFrame(ofmiceandmen2)"
   ]
  },
  {
   "cell_type": "code",
   "execution_count": 3,
   "metadata": {
    "collapsed": true
   },
   "outputs": [],
   "source": [
    "ofmiceandmen = text_file = open(\"ofmiceandmen.txt\", \"r\")\n",
    "ofmiceandmen = ofmiceandmen.read().split('. ')\n",
    "ofmiceandmen = pd.DataFrame(ofmiceandmen)"
   ]
  },
  {
   "cell_type": "code",
   "execution_count": 4,
   "metadata": {
    "collapsed": true,
    "scrolled": true
   },
   "outputs": [],
   "source": [
    "mrtickle = text_file = open(\"mrtickle.txt\", \"r\")\n",
    "mrtickle = mrtickle.read().split('. ')\n",
    "mrtickle = pd.DataFrame(mrtickle)"
   ]
  },
  {
   "cell_type": "code",
   "execution_count": 5,
   "metadata": {
    "collapsed": true
   },
   "outputs": [],
   "source": [
    "mrgreedy = text_file = open(\"mrgreedy.txt\", \"r\")\n",
    "mrgreedy = mrgreedy.read().split('. ')\n",
    "mrgreedy = pd.DataFrame(mrgreedy)"
   ]
  },
  {
   "cell_type": "code",
   "execution_count": 6,
   "metadata": {
    "collapsed": true
   },
   "outputs": [],
   "source": [
    "canneryrow = text_file = open(\"Canneryrow.txt\", \"r\")\n",
    "canneryrow = canneryrow.read().split('. ')\n",
    "canneryrow = pd.DataFrame(canneryrow)"
   ]
  },
  {
   "cell_type": "code",
   "execution_count": 7,
   "metadata": {
    "ExecuteTime": {
     "end_time": "2019-03-13T22:27:22.800814Z",
     "start_time": "2019-03-13T22:27:22.795068Z"
    },
    "collapsed": true
   },
   "outputs": [],
   "source": [
    "#Merge mr men and of mice and men\n",
    "\n",
    "books = pd.DataFrame({\n",
    "                    \"Title\": [ofmiceandmen[0][0],ofmiceandmen2[0][0],mrtickle[0][0],mrgreedy[0][0],canneryrow[0][0]],\n",
    "                    \"Text\": [ofmiceandmen[0][1:].str.cat(sep = \". \"),ofmiceandmen2[0][1:].str.cat(sep = \". \"),mrtickle[0][1:].str.cat(sep = \". \"),mrgreedy[0][1:].str.cat(sep = \". \"),canneryrow[0][1:].str.cat(sep = \". \")]\n",
    "                    })"
   ]
  },
  {
   "cell_type": "code",
   "execution_count": 8,
   "metadata": {
    "ExecuteTime": {
     "end_time": "2019-03-13T22:27:22.851829Z",
     "start_time": "2019-03-13T22:27:22.847039Z"
    },
    "scrolled": true
   },
   "outputs": [
    {
     "name": "stdout",
     "output_type": "stream",
     "text": [
      "https://www.gutenberg.org/files/1549/1549-0.txt\n"
     ]
    }
   ],
   "source": [
    "#Creates list of book url links to retrieve text in next loop\n",
    "\n",
    "UrlList = []\n",
    "BookIndex = 1500\n",
    "BookSearchRange = 50\n",
    "\n",
    "for i in range(BookSearchRange):\n",
    "    \n",
    "    UrlList.append(\"https://www.gutenberg.org/files/\" + str(int(BookIndex+len(UrlList))) + \"/\" +\n",
    "                   str(int(BookIndex + len(UrlList))) + \"-0.txt\")   \n",
    "\n",
    "print(UrlList[-1])"
   ]
  },
  {
   "cell_type": "code",
   "execution_count": 9,
   "metadata": {
    "ExecuteTime": {
     "end_time": "2019-03-13T22:27:55.804775Z",
     "start_time": "2019-03-13T22:27:22.853880Z"
    },
    "collapsed": true
   },
   "outputs": [],
   "source": [
    "#loop to retrieve book text and append to main Data Frame\n",
    "\n",
    "GutenbergBooks = pd.DataFrame()\n",
    "\n",
    "BookTitleFinder = re.compile('(?<=Title: ).{,}')\n",
    "\n",
    "for i in UrlList:\n",
    "    \n",
    "    r=requests.get(i)\n",
    "    soup = BeautifulSoup(r.text,\"html.parser\")\n",
    "    if len(soup.text) > 100:\n",
    "        temp = pd.DataFrame({\n",
    "                             \"Title\":[BookTitleFinder.findall(soup.text)]\n",
    "                            ,\"Text\":[soup]\n",
    "                            })\n",
    "        \n",
    "        GutenbergBooks = GutenbergBooks.append(temp).reset_index(drop=True)"
   ]
  },
  {
   "cell_type": "code",
   "execution_count": 10,
   "metadata": {
    "ExecuteTime": {
     "end_time": "2019-03-13T22:27:55.820605Z",
     "start_time": "2019-03-13T22:27:55.806686Z"
    },
    "collapsed": true,
    "scrolled": true
   },
   "outputs": [],
   "source": [
    "#Clean the titles as they have []\n",
    "\n",
    "for i, j in enumerate(GutenbergBooks.Title):\n",
    "    GutenbergBooks.loc[i,\"Title\"] = re.sub(\"\\[|'|]|r]|\\\\\\\\\", \"\", str(j))"
   ]
  },
  {
   "cell_type": "code",
   "execution_count": 11,
   "metadata": {
    "collapsed": true
   },
   "outputs": [],
   "source": [
    "#Define function to find nth index position of substring in string\n",
    "\n",
    "def findnth(string, substring, n):\n",
    "    parts = string.split(substring, n + 1)\n",
    "    if len(parts) <= n + 1:\n",
    "        return -1\n",
    "    return len(string) - len(parts[-1]) - len(substring)"
   ]
  },
  {
   "cell_type": "code",
   "execution_count": 12,
   "metadata": {
    "ExecuteTime": {
     "end_time": "2019-03-13T22:27:56.572719Z",
     "start_time": "2019-03-13T22:27:55.822299Z"
    },
    "collapsed": true
   },
   "outputs": [],
   "source": [
    "#Create text sample column and drop text\n",
    "\n",
    "books[\"TextSample\"] = 0\n",
    "for i, j in enumerate(GutenbergBooks.Text):\n",
    "    Example = str(GutenbergBooks.Text[i])\n",
    "    Start = findnth(Example, \".\", 50)+2\n",
    "    End = findnth(Example, \".\", 350)\n",
    "    GutenbergBooks.loc[i,\"TextSample\"] = str(GutenbergBooks.Text[i])[Start:End]\n",
    "    temp = re.sub(\"\\r\",\"\",str(GutenbergBooks.TextSample[i]))\n",
    "    GutenbergBooks.loc[i,\"TextSample\"] = re.sub(\"\\n\",\" \",temp)\n",
    "    #GutenbergBooks.loc[i,\"TextSample\"] = re.sub(\"\\A\\S+\\s+\",\"\",str(GutenbergBooks.TextSample[i]))"
   ]
  },
  {
   "cell_type": "code",
   "execution_count": 13,
   "metadata": {
    "ExecuteTime": {
     "end_time": "2019-03-13T22:27:57.165345Z",
     "start_time": "2019-03-13T22:27:56.574585Z"
    },
    "collapsed": true
   },
   "outputs": [],
   "source": [
    "#Remove dirty text\n",
    "\n",
    "for i, j in enumerate(GutenbergBooks.TextSample):\n",
    "    GutenbergBooks.loc[i,\"TextSample\"] = re.sub(\"\\s{1,}\",\" \",str(j))\n",
    "    GutenbergBooks.loc[i,\"TextSample\"] = re.sub(\"\\.\\s{1,}\\.\",\" \",str(j))\n",
    "    GutenbergBooks.loc[i,\"TextSample\"] = re.sub(\"-{2,}\",\" \",str(j))\n",
    "    GutenbergBooks.loc[i,\"TextSample\"] = re.sub(\"\\s\",\" \",str(j))"
   ]
  },
  {
   "cell_type": "code",
   "execution_count": 14,
   "metadata": {
    "collapsed": true
   },
   "outputs": [],
   "source": [
    "#Merge gutenberg books and books\n",
    "\n",
    "books = books[[\"Title\",\"Text\"]]\n",
    "GutenbergBooks = GutenbergBooks[[\"Title\",\"TextSample\"]]\n",
    "GutenbergBooks = GutenbergBooks.rename(index=str, columns={\"TextSample\": \"Text\"})\n",
    "\n",
    "books = books.append(GutenbergBooks)\n",
    "books = books.reset_index()"
   ]
  },
  {
   "cell_type": "code",
   "execution_count": 15,
   "metadata": {
    "ExecuteTime": {
     "end_time": "2019-03-13T22:27:57.175289Z",
     "start_time": "2019-03-13T22:27:57.167180Z"
    },
    "collapsed": true
   },
   "outputs": [],
   "source": [
    "#Create dummy columns\n",
    "\n",
    "books['SMOG'] = 0\n",
    "books['FleschGrade'] = 0\n",
    "books['AutomatedReadability'] = 0\n",
    "books['GunningFOG'] = 0"
   ]
  },
  {
   "cell_type": "code",
   "execution_count": 16,
   "metadata": {
    "ExecuteTime": {
     "end_time": "2019-03-13T22:28:10.122824Z",
     "start_time": "2019-03-13T22:27:57.176830Z"
    },
    "collapsed": true
   },
   "outputs": [],
   "source": [
    "#Add readability metrics\n",
    "\n",
    "for i, j in enumerate(books.Text):\n",
    "    books.loc[i,\"SMOG\"] = textstat.smog_index(str(books.Text[i]))\n",
    "    books.loc[i,\"FleschGrade\"] = textstat.flesch_kincaid_grade(str(books.Text[i]))\n",
    "    books.loc[i,\"AutomatedReadability\"] = textstat.automated_readability_index(str(books.Text[i]))\n",
    "    books.loc[i,\"GunningFOG\"] = textstat.gunning_fog(str(books.Text[i]))"
   ]
  },
  {
   "cell_type": "code",
   "execution_count": 17,
   "metadata": {
    "collapsed": true
   },
   "outputs": [],
   "source": [
    "books2 = books.iloc[:,1:7]\n",
    "books2.SMOG = [i/max(books2.SMOG) for i in books2.SMOG]\n",
    "books2.FleschGrade = [i/max(books2.FleschGrade) for i in books2.FleschGrade]\n",
    "books2.AutomatedReadability = [i/max(books2.AutomatedReadability) for i in books2.AutomatedReadability]\n",
    "books2.GunningFOG = [i/max(books2.GunningFOG) for i in books2.GunningFOG]"
   ]
  },
  {
   "cell_type": "code",
   "execution_count": 18,
   "metadata": {},
   "outputs": [
    {
     "data": {
      "text/html": [
       "<div>\n",
       "<style scoped>\n",
       "    .dataframe tbody tr th:only-of-type {\n",
       "        vertical-align: middle;\n",
       "    }\n",
       "\n",
       "    .dataframe tbody tr th {\n",
       "        vertical-align: top;\n",
       "    }\n",
       "\n",
       "    .dataframe thead th {\n",
       "        text-align: right;\n",
       "    }\n",
       "</style>\n",
       "<table border=\"1\" class=\"dataframe\">\n",
       "  <thead>\n",
       "    <tr style=\"text-align: right;\">\n",
       "      <th></th>\n",
       "      <th>Title</th>\n",
       "      <th>Text</th>\n",
       "      <th>SMOG</th>\n",
       "      <th>FleschGrade</th>\n",
       "      <th>AutomatedReadability</th>\n",
       "      <th>GunningFOG</th>\n",
       "      <th>Difficulty</th>\n",
       "    </tr>\n",
       "  </thead>\n",
       "  <tbody>\n",
       "    <tr>\n",
       "      <th>19</th>\n",
       "      <td>A Lover’s Complaintr</td>\n",
       "      <td>‘“When thou impressest, what are precepts wo...</td>\n",
       "      <td>15.7</td>\n",
       "      <td>17.6</td>\n",
       "      <td>21.5</td>\n",
       "      <td>17.00</td>\n",
       "      <td>0.987730</td>\n",
       "    </tr>\n",
       "    <tr>\n",
       "      <th>12</th>\n",
       "      <td>The Phoenix and the Turtler</td>\n",
       "      <td>.8.  1.B. \"Project Gutenberg\" is a registered ...</td>\n",
       "      <td>16.3</td>\n",
       "      <td>16.8</td>\n",
       "      <td>21.0</td>\n",
       "      <td>16.69</td>\n",
       "      <td>0.977097</td>\n",
       "    </tr>\n",
       "    <tr>\n",
       "      <th>1</th>\n",
       "      <td>Of Mice &amp; Men Sample</td>\n",
       "      <td>A few miles south of Soledad, the Salinas Rive...</td>\n",
       "      <td>7.8</td>\n",
       "      <td>13.5</td>\n",
       "      <td>18.0</td>\n",
       "      <td>14.87</td>\n",
       "      <td>0.694261</td>\n",
       "    </tr>\n",
       "    <tr>\n",
       "      <th>18</th>\n",
       "      <td>Periclesr</td>\n",
       "      <td>Chorus. Scene I. Tarsus. An open place near t...</td>\n",
       "      <td>9.8</td>\n",
       "      <td>9.7</td>\n",
       "      <td>12.5</td>\n",
       "      <td>11.13</td>\n",
       "      <td>0.577920</td>\n",
       "    </tr>\n",
       "    <tr>\n",
       "      <th>11</th>\n",
       "      <td>Hamletr</td>\n",
       "      <td>GERTRUDE, the Queen, Hamlet’s mother, now wife...</td>\n",
       "      <td>9.4</td>\n",
       "      <td>7.6</td>\n",
       "      <td>8.8</td>\n",
       "      <td>8.27</td>\n",
       "      <td>0.472603</td>\n",
       "    </tr>\n",
       "    <tr>\n",
       "      <th>4</th>\n",
       "      <td>Cannery Row</td>\n",
       "      <td>Lee Chong’s grocery, wliile not a model of nea...</td>\n",
       "      <td>8.8</td>\n",
       "      <td>7.6</td>\n",
       "      <td>9.5</td>\n",
       "      <td>9.25</td>\n",
       "      <td>0.471185</td>\n",
       "    </tr>\n",
       "    <tr>\n",
       "      <th>5</th>\n",
       "      <td>The Taming of the Shrew</td>\n",
       "      <td>You will not pay for the glasses you have burs...</td>\n",
       "      <td>8.0</td>\n",
       "      <td>7.2</td>\n",
       "      <td>8.9</td>\n",
       "      <td>8.49</td>\n",
       "      <td>0.437947</td>\n",
       "    </tr>\n",
       "    <tr>\n",
       "      <th>8</th>\n",
       "      <td>The Merchant of Venicer</td>\n",
       "      <td>Belmont. A room in Portia’s house. Scene V. Th...</td>\n",
       "      <td>8.7</td>\n",
       "      <td>6.8</td>\n",
       "      <td>8.3</td>\n",
       "      <td>8.38</td>\n",
       "      <td>0.435384</td>\n",
       "    </tr>\n",
       "    <tr>\n",
       "      <th>17</th>\n",
       "      <td>Macbethr</td>\n",
       "      <td>ACT IV Scene I. A dark Cave. In the middle,...</td>\n",
       "      <td>8.0</td>\n",
       "      <td>6.7</td>\n",
       "      <td>8.2</td>\n",
       "      <td>7.08</td>\n",
       "      <td>0.417625</td>\n",
       "    </tr>\n",
       "    <tr>\n",
       "      <th>7</th>\n",
       "      <td>A Midsummer Night’s Dreamr</td>\n",
       "      <td>HERMIA. So is Lysander.  THESEUS. In himself...</td>\n",
       "      <td>7.8</td>\n",
       "      <td>6.5</td>\n",
       "      <td>8.4</td>\n",
       "      <td>7.88</td>\n",
       "      <td>0.412848</td>\n",
       "    </tr>\n",
       "    <tr>\n",
       "      <th>15</th>\n",
       "      <td>All’s Well That Ends Wellr</td>\n",
       "      <td>Florence. A room in the Widow’s house. Scene I...</td>\n",
       "      <td>8.7</td>\n",
       "      <td>5.8</td>\n",
       "      <td>7.9</td>\n",
       "      <td>7.69</td>\n",
       "      <td>0.410243</td>\n",
       "    </tr>\n",
       "    <tr>\n",
       "      <th>10</th>\n",
       "      <td>Julius Caesarr</td>\n",
       "      <td>MARCUS ANTONIUS,    ”    ”     ” M. AEMILIUS ...</td>\n",
       "      <td>7.9</td>\n",
       "      <td>6.6</td>\n",
       "      <td>7.9</td>\n",
       "      <td>7.97</td>\n",
       "      <td>0.409035</td>\n",
       "    </tr>\n",
       "    <tr>\n",
       "      <th>16</th>\n",
       "      <td>King Learr</td>\n",
       "      <td>A Tent in the French Camp.  ACT V Scene I. Th...</td>\n",
       "      <td>7.7</td>\n",
       "      <td>6.2</td>\n",
       "      <td>8.3</td>\n",
       "      <td>7.81</td>\n",
       "      <td>0.403571</td>\n",
       "    </tr>\n",
       "    <tr>\n",
       "      <th>9</th>\n",
       "      <td>Much Ado about Nothing</td>\n",
       "      <td>FRIAR FRANCIS. A Sexton. A Boy.  HERO, Daughte...</td>\n",
       "      <td>7.5</td>\n",
       "      <td>6.4</td>\n",
       "      <td>7.3</td>\n",
       "      <td>7.58</td>\n",
       "      <td>0.387765</td>\n",
       "    </tr>\n",
       "    <tr>\n",
       "      <th>6</th>\n",
       "      <td>Romeo and Julietr</td>\n",
       "      <td>Mantua. A Street. Scene II. Friar Lawrence’s C...</td>\n",
       "      <td>7.9</td>\n",
       "      <td>5.2</td>\n",
       "      <td>6.8</td>\n",
       "      <td>6.58</td>\n",
       "      <td>0.365465</td>\n",
       "    </tr>\n",
       "    <tr>\n",
       "      <th>0</th>\n",
       "      <td>Of Mice &amp; Men</td>\n",
       "      <td>A few miles south of Soledad, the Salinas Rive...</td>\n",
       "      <td>6.7</td>\n",
       "      <td>5.4</td>\n",
       "      <td>7.3</td>\n",
       "      <td>7.50</td>\n",
       "      <td>0.352465</td>\n",
       "    </tr>\n",
       "    <tr>\n",
       "      <th>13</th>\n",
       "      <td>Twelfth Nightr</td>\n",
       "      <td>FABIAN, Servant to Olivia. CLOWN, Servant to ...</td>\n",
       "      <td>7.4</td>\n",
       "      <td>5.3</td>\n",
       "      <td>6.0</td>\n",
       "      <td>6.58</td>\n",
       "      <td>0.344731</td>\n",
       "    </tr>\n",
       "    <tr>\n",
       "      <th>14</th>\n",
       "      <td>Troilus and Cressidar</td>\n",
       "      <td>The Grecian camp. Before CALCHAS’ tent. Scene...</td>\n",
       "      <td>7.4</td>\n",
       "      <td>4.7</td>\n",
       "      <td>6.5</td>\n",
       "      <td>5.64</td>\n",
       "      <td>0.341120</td>\n",
       "    </tr>\n",
       "    <tr>\n",
       "      <th>2</th>\n",
       "      <td>Mr Tickle</td>\n",
       "      <td>It was a warm, sunny morning. In his small hou...</td>\n",
       "      <td>6.6</td>\n",
       "      <td>4.9</td>\n",
       "      <td>6.1</td>\n",
       "      <td>5.69</td>\n",
       "      <td>0.322346</td>\n",
       "    </tr>\n",
       "    <tr>\n",
       "      <th>3</th>\n",
       "      <td>Mr Greedy Sample</td>\n",
       "      <td>Mr Greedy liked to eat! In fact, Mr Greedy lov...</td>\n",
       "      <td>3.1</td>\n",
       "      <td>2.4</td>\n",
       "      <td>1.1</td>\n",
       "      <td>3.88</td>\n",
       "      <td>0.125903</td>\n",
       "    </tr>\n",
       "  </tbody>\n",
       "</table>\n",
       "</div>"
      ],
      "text/plain": [
       "                          Title  \\\n",
       "19         A Lover’s Complaintr   \n",
       "12  The Phoenix and the Turtler   \n",
       "1          Of Mice & Men Sample   \n",
       "18                    Periclesr   \n",
       "11                      Hamletr   \n",
       "4                   Cannery Row   \n",
       "5       The Taming of the Shrew   \n",
       "8       The Merchant of Venicer   \n",
       "17                     Macbethr   \n",
       "7    A Midsummer Night’s Dreamr   \n",
       "15   All’s Well That Ends Wellr   \n",
       "10               Julius Caesarr   \n",
       "16                   King Learr   \n",
       "9        Much Ado about Nothing   \n",
       "6             Romeo and Julietr   \n",
       "0                 Of Mice & Men   \n",
       "13               Twelfth Nightr   \n",
       "14        Troilus and Cressidar   \n",
       "2                     Mr Tickle   \n",
       "3              Mr Greedy Sample   \n",
       "\n",
       "                                                 Text  SMOG  FleschGrade  \\\n",
       "19    ‘“When thou impressest, what are precepts wo...  15.7         17.6   \n",
       "12  .8.  1.B. \"Project Gutenberg\" is a registered ...  16.3         16.8   \n",
       "1   A few miles south of Soledad, the Salinas Rive...   7.8         13.5   \n",
       "18   Chorus. Scene I. Tarsus. An open place near t...   9.8          9.7   \n",
       "11  GERTRUDE, the Queen, Hamlet’s mother, now wife...   9.4          7.6   \n",
       "4   Lee Chong’s grocery, wliile not a model of nea...   8.8          7.6   \n",
       "5   You will not pay for the glasses you have burs...   8.0          7.2   \n",
       "8   Belmont. A room in Portia’s house. Scene V. Th...   8.7          6.8   \n",
       "17     ACT IV Scene I. A dark Cave. In the middle,...   8.0          6.7   \n",
       "7     HERMIA. So is Lysander.  THESEUS. In himself...   7.8          6.5   \n",
       "15  Florence. A room in the Widow’s house. Scene I...   8.7          5.8   \n",
       "10   MARCUS ANTONIUS,    ”    ”     ” M. AEMILIUS ...   7.9          6.6   \n",
       "16   A Tent in the French Camp.  ACT V Scene I. Th...   7.7          6.2   \n",
       "9   FRIAR FRANCIS. A Sexton. A Boy.  HERO, Daughte...   7.5          6.4   \n",
       "6   Mantua. A Street. Scene II. Friar Lawrence’s C...   7.9          5.2   \n",
       "0   A few miles south of Soledad, the Salinas Rive...   6.7          5.4   \n",
       "13   FABIAN, Servant to Olivia. CLOWN, Servant to ...   7.4          5.3   \n",
       "14   The Grecian camp. Before CALCHAS’ tent. Scene...   7.4          4.7   \n",
       "2   It was a warm, sunny morning. In his small hou...   6.6          4.9   \n",
       "3   Mr Greedy liked to eat! In fact, Mr Greedy lov...   3.1          2.4   \n",
       "\n",
       "    AutomatedReadability  GunningFOG  Difficulty  \n",
       "19                  21.5       17.00    0.987730  \n",
       "12                  21.0       16.69    0.977097  \n",
       "1                   18.0       14.87    0.694261  \n",
       "18                  12.5       11.13    0.577920  \n",
       "11                   8.8        8.27    0.472603  \n",
       "4                    9.5        9.25    0.471185  \n",
       "5                    8.9        8.49    0.437947  \n",
       "8                    8.3        8.38    0.435384  \n",
       "17                   8.2        7.08    0.417625  \n",
       "7                    8.4        7.88    0.412848  \n",
       "15                   7.9        7.69    0.410243  \n",
       "10                   7.9        7.97    0.409035  \n",
       "16                   8.3        7.81    0.403571  \n",
       "9                    7.3        7.58    0.387765  \n",
       "6                    6.8        6.58    0.365465  \n",
       "0                    7.3        7.50    0.352465  \n",
       "13                   6.0        6.58    0.344731  \n",
       "14                   6.5        5.64    0.341120  \n",
       "2                    6.1        5.69    0.322346  \n",
       "3                    1.1        3.88    0.125903  "
      ]
     },
     "execution_count": 18,
     "metadata": {},
     "output_type": "execute_result"
    }
   ],
   "source": [
    "WeightedList = []\n",
    "for i in range(len(books)):\n",
    "    WeightedList.append(statistics.mean(books2.iloc[i,2:5]))\n",
    "books[\"Difficulty\"] = WeightedList\n",
    "books = books.iloc[:,1:9]\n",
    "books = books.sort_values(by = [\"Difficulty\"],ascending=False)\n",
    "books.head(20)"
   ]
  },
  {
   "cell_type": "code",
   "execution_count": 19,
   "metadata": {
    "collapsed": true
   },
   "outputs": [],
   "source": [
    "books.to_csv(\"Output.csv\")"
   ]
  }
 ],
 "metadata": {
  "kernelspec": {
   "display_name": "Python 3",
   "language": "python",
   "name": "python3"
  },
  "language_info": {
   "codemirror_mode": {
    "name": "ipython",
    "version": 3
   },
   "file_extension": ".py",
   "mimetype": "text/x-python",
   "name": "python",
   "nbconvert_exporter": "python",
   "pygments_lexer": "ipython3",
   "version": "3.5.2"
  }
 },
 "nbformat": 4,
 "nbformat_minor": 2
}
