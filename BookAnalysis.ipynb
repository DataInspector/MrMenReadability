{
 "cells": [
  {
   "cell_type": "code",
   "execution_count": 1,
   "metadata": {
    "ExecuteTime": {
     "end_time": "2019-03-10T10:55:32.235559Z",
     "start_time": "2019-03-10T10:55:31.816192Z"
    }
   },
   "outputs": [],
   "source": [
    "import pandas as pd,numpy as np,requests,re\n",
    "from bs4 import BeautifulSoup"
   ]
  },
  {
   "cell_type": "code",
   "execution_count": 2,
   "metadata": {
    "ExecuteTime": {
     "end_time": "2019-03-10T10:55:33.062105Z",
     "start_time": "2019-03-10T10:55:33.036908Z"
    }
   },
   "outputs": [],
   "source": [
    "#of mice and men and mr tickle in pandas DF - to be replaced by mr greedy\n",
    "\n",
    "ofmiceandmen = pd.read_csv(\"ofmiceandmen.txt\",delimiter=\"\\t\",header=None,names = [\"Text\"])\n",
    "mrtickle = pd.read_csv(\"mrtickle.txt\",delimiter=\"\\t\",header=None,names = [\"Text\"])\n",
    "\n",
    "books = pd.DataFrame({\n",
    "                    \"Title\": [ofmiceandmen.Text[0],mrtickle.Text[0]],\n",
    "                    \"Text\": [ofmiceandmen.Text[1:].str.cat(),mrtickle.Text[1:].str.cat()]\n",
    "                    })\n"
   ]
  },
  {
   "cell_type": "code",
   "execution_count": 3,
   "metadata": {
    "ExecuteTime": {
     "end_time": "2019-03-10T10:55:34.825439Z",
     "start_time": "2019-03-10T10:55:34.818016Z"
    }
   },
   "outputs": [
    {
     "name": "stdout",
     "output_type": "stream",
     "text": [
      "https://www.gutenberg.org/files/1349/1349-0.txt\n"
     ]
    }
   ],
   "source": [
    "#Creates list of book url links to retrieve text in next loop\n",
    "\n",
    "UrlList = []\n",
    "BookIndex = 1300\n",
    "BookSearchRange = 50\n",
    "\n",
    "for i in range(BookSearchRange):\n",
    "    \n",
    "    UrlList.append(\"https://www.gutenberg.org/files/\" + str(int(BookIndex+len(UrlList))) + \"/\" +\n",
    "                   str(int(BookIndex + len(UrlList))) + \"-0.txt\")   \n",
    "\n",
    "print(UrlList[-1])"
   ]
  },
  {
   "cell_type": "code",
   "execution_count": 4,
   "metadata": {
    "ExecuteTime": {
     "end_time": "2019-03-10T10:56:09.020684Z",
     "start_time": "2019-03-10T10:55:36.933141Z"
    }
   },
   "outputs": [],
   "source": [
    "#loop to retrieve book text and append to main Data Frame\n",
    "\n",
    "BookTitleFinder = re.compile('(?<=Title: ).{,}')\n",
    "\n",
    "for i in UrlList:\n",
    "    \n",
    "    r=requests.get(i)\n",
    "    soup = BeautifulSoup(r.text,\"html.parser\")\n",
    "    if len(soup.text) > 100:\n",
    "        temp = pd.DataFrame({\n",
    "                             \"Title\":[BookTitleFinder.findall(soup.text)]\n",
    "                            ,\"Text\":[soup]\n",
    "                            })\n",
    "        \n",
    "        books = books.append(temp).reset_index(drop=True)\n",
    "        \n",
    "    else:\n",
    "        pass"
   ]
  },
  {
   "cell_type": "code",
   "execution_count": 6,
   "metadata": {
    "ExecuteTime": {
     "end_time": "2019-03-10T10:56:22.118666Z",
     "start_time": "2019-03-10T10:56:21.956054Z"
    }
   },
   "outputs": [
    {
     "data": {
      "text/html": [
       "<div>\n",
       "<style scoped>\n",
       "    .dataframe tbody tr th:only-of-type {\n",
       "        vertical-align: middle;\n",
       "    }\n",
       "\n",
       "    .dataframe tbody tr th {\n",
       "        vertical-align: top;\n",
       "    }\n",
       "\n",
       "    .dataframe thead th {\n",
       "        text-align: right;\n",
       "    }\n",
       "</style>\n",
       "<table border=\"1\" class=\"dataframe\">\n",
       "  <thead>\n",
       "    <tr style=\"text-align: right;\">\n",
       "      <th></th>\n",
       "      <th>Title</th>\n",
       "      <th>Text</th>\n",
       "    </tr>\n",
       "  </thead>\n",
       "  <tbody>\n",
       "    <tr>\n",
       "      <th>0</th>\n",
       "      <td>OF MICE AND MEN</td>\n",
       "      <td>A FEW MILES south of Soledad, the Salinas Rive...</td>\n",
       "    </tr>\n",
       "    <tr>\n",
       "      <th>1</th>\n",
       "      <td>Mr. Tickle</td>\n",
       "      <td>It was a warm, sunny morning.In his small hous...</td>\n",
       "    </tr>\n",
       "    <tr>\n",
       "      <th>2</th>\n",
       "      <td>[Riders of the Purple Sage\\r]</td>\n",
       "      <td>﻿The Project Gutenberg EBook of Riders of the ...</td>\n",
       "    </tr>\n",
       "    <tr>\n",
       "      <th>3</th>\n",
       "      <td>[The Scapegoat\\r]</td>\n",
       "      <td>﻿The Project Gutenberg EBook of The Scapegoat,...</td>\n",
       "    </tr>\n",
       "    <tr>\n",
       "      <th>4</th>\n",
       "      <td>[The Ball at Sceaux\\r]</td>\n",
       "      <td>﻿The Project Gutenberg EBook of The Ball at Sc...</td>\n",
       "    </tr>\n",
       "    <tr>\n",
       "      <th>5</th>\n",
       "      <td>[Seven Men\\r]</td>\n",
       "      <td>﻿The Project Gutenberg EBook of Seven Men, by ...</td>\n",
       "    </tr>\n",
       "    <tr>\n",
       "      <th>6</th>\n",
       "      <td>[The Magic Skin\\r]</td>\n",
       "      <td>﻿The Project Gutenberg EBook of The Magic Skin...</td>\n",
       "    </tr>\n",
       "    <tr>\n",
       "      <th>7</th>\n",
       "      <td>[Oscar Wilde Miscellaneous\\r]</td>\n",
       "      <td>﻿The Project Gutenberg eBook, Oscar Wilde Misc...</td>\n",
       "    </tr>\n",
       "    <tr>\n",
       "      <th>8</th>\n",
       "      <td>[Annals of the Parish\\r]</td>\n",
       "      <td>﻿The Project Gutenberg eBook, Annals of the Pa...</td>\n",
       "    </tr>\n",
       "    <tr>\n",
       "      <th>9</th>\n",
       "      <td>[Selected Stories\\r]</td>\n",
       "      <td>﻿The Project Gutenberg EBook of Selected Stori...</td>\n",
       "    </tr>\n",
       "  </tbody>\n",
       "</table>\n",
       "</div>"
      ],
      "text/plain": [
       "                           Title  \\\n",
       "0               OF MICE AND MEN    \n",
       "1                     Mr. Tickle   \n",
       "2  [Riders of the Purple Sage\\r]   \n",
       "3              [The Scapegoat\\r]   \n",
       "4         [The Ball at Sceaux\\r]   \n",
       "5                  [Seven Men\\r]   \n",
       "6             [The Magic Skin\\r]   \n",
       "7  [Oscar Wilde Miscellaneous\\r]   \n",
       "8       [Annals of the Parish\\r]   \n",
       "9           [Selected Stories\\r]   \n",
       "\n",
       "                                                Text  \n",
       "0  A FEW MILES south of Soledad, the Salinas Rive...  \n",
       "1  It was a warm, sunny morning.In his small hous...  \n",
       "2  ﻿The Project Gutenberg EBook of Riders of the ...  \n",
       "3  ﻿The Project Gutenberg EBook of The Scapegoat,...  \n",
       "4  ﻿The Project Gutenberg EBook of The Ball at Sc...  \n",
       "5  ﻿The Project Gutenberg EBook of Seven Men, by ...  \n",
       "6  ﻿The Project Gutenberg EBook of The Magic Skin...  \n",
       "7  ﻿The Project Gutenberg eBook, Oscar Wilde Misc...  \n",
       "8  ﻿The Project Gutenberg eBook, Annals of the Pa...  \n",
       "9  ﻿The Project Gutenberg EBook of Selected Stori...  "
      ]
     },
     "execution_count": 6,
     "metadata": {},
     "output_type": "execute_result"
    }
   ],
   "source": [
    "books.head(10)"
   ]
  }
 ],
 "metadata": {
  "kernelspec": {
   "display_name": "p36workshop",
   "language": "python",
   "name": "p36workshop"
  },
  "language_info": {
   "codemirror_mode": {
    "name": "ipython",
    "version": 3
   },
   "file_extension": ".py",
   "mimetype": "text/x-python",
   "name": "python",
   "nbconvert_exporter": "python",
   "pygments_lexer": "ipython3",
   "version": "3.6.7"
  }
 },
 "nbformat": 4,
 "nbformat_minor": 2
}
